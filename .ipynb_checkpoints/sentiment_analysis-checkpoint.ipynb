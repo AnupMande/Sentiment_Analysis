{
 "cells": [
  {
   "cell_type": "code",
   "execution_count": 7,
   "id": "78e2039e-ead7-4917-adbb-13703dbf15aa",
   "metadata": {},
   "outputs": [],
   "source": [
    "import nltk\n",
    "from nltk.corpus import stopwords\n",
    "from nltk.tokenize import word_tokenize\n",
    "from vaderSentiment.vaderSentiment import SentimentIntensityAnalyzer\n",
    "\n"
   ]
  },
  {
   "cell_type": "code",
   "execution_count": 8,
   "id": "7ab4a755-89bc-42d1-9905-b80c0e1b5f66",
   "metadata": {},
   "outputs": [
    {
     "name": "stderr",
     "output_type": "stream",
     "text": [
      "[nltk_data] Downloading package punkt to /home/sunbeam/nltk_data...\n",
      "[nltk_data]   Package punkt is already up-to-date!\n",
      "[nltk_data] Downloading package stopwords to\n",
      "[nltk_data]     /home/sunbeam/nltk_data...\n",
      "[nltk_data]   Package stopwords is already up-to-date!\n"
     ]
    }
   ],
   "source": [
    "# Download necessary NLTK data\n",
    "nltk.download('punkt')\n",
    "nltk.download('stopwords')\n",
    "\n",
    "# Initialize the VADER sentiment intensity analyzer\n",
    "vader_analyzer = SentimentIntensityAnalyzer()\n",
    "\n"
   ]
  },
  {
   "cell_type": "code",
   "execution_count": 9,
   "id": "04cb11eb-7a04-48d3-a85d-84ef2b202ba4",
   "metadata": {},
   "outputs": [],
   "source": [
    "# Text Preprocessing Function\n",
    "def preprocess_text(text):\n",
    "    # Convert text to lowercase\n",
    "    text = text.lower()\n",
    "    \n",
    "    # Tokenize the text\n",
    "    words = word_tokenize(text)\n",
    "    \n",
    "    # Remove punctuation\n",
    "    words = [word for word in words if word.isalnum()]\n",
    "    \n",
    "    # Remove stopwords\n",
    "    stop_words = set(stopwords.words('english'))\n",
    "    filtered_words = [word for word in words if word not in stop_words]\n",
    "    \n",
    "    return ' '.join(filtered_words)\n",
    "\n"
   ]
  },
  {
   "cell_type": "code",
   "execution_count": 10,
   "id": "879e721c-acb1-4ccf-9354-bad3ef35c308",
   "metadata": {},
   "outputs": [],
   "source": [
    "# Sentiment Analysis using VADER\n",
    "def get_sentiment_vader(text):\n",
    "    # Analyze sentiment using VADER\n",
    "    scores = vader_analyzer.polarity_scores(text)\n",
    "    \n",
    "    # Classify based on compound score\n",
    "    compound_score = scores['compound']\n",
    "    \n",
    "    if compound_score >= 0.05:\n",
    "        return 'Positive'\n",
    "    elif compound_score <= -0.05:\n",
    "        return 'Negative'\n",
    "    else:\n",
    "        return 'Neutral'\n",
    "\n",
    "\n"
   ]
  },
  {
   "cell_type": "code",
   "execution_count": 14,
   "id": "75005825-f3c7-4057-bb88-ec3a564b8268",
   "metadata": {},
   "outputs": [
    {
     "name": "stdin",
     "output_type": "stream",
     "text": [
      "Enter a sentence (or type 'exit' to quit):  i am not bad\n"
     ]
    },
    {
     "name": "stdout",
     "output_type": "stream",
     "text": [
      "Original Text: i am not bad\n",
      "Cleaned Text: bad\n",
      "Sentiment: Positive\n",
      "\n"
     ]
    },
    {
     "name": "stdin",
     "output_type": "stream",
     "text": [
      "Enter a sentence (or type 'exit' to quit):  i am very happy\n"
     ]
    },
    {
     "name": "stdout",
     "output_type": "stream",
     "text": [
      "Original Text: i am very happy\n",
      "Cleaned Text: happy\n",
      "Sentiment: Positive\n",
      "\n"
     ]
    },
    {
     "name": "stdin",
     "output_type": "stream",
     "text": [
      "Enter a sentence (or type 'exit' to quit):  exit\n"
     ]
    },
    {
     "name": "stdout",
     "output_type": "stream",
     "text": [
      "Exiting the application.\n"
     ]
    }
   ],
   "source": [
    "# User Input and Sentiment Analysis\n",
    "def analyze_user_input():\n",
    "    while True:\n",
    "        user_input = input(\"Enter a sentence (or type 'exit' to quit): \")\n",
    "        \n",
    "        if user_input.lower() == 'exit':\n",
    "            print(\"Exiting the application.\")\n",
    "            break\n",
    "        \n",
    "        # Preprocess the user input\n",
    "        cleaned_text = preprocess_text(user_input)\n",
    "        \n",
    "        # Analyze sentiment using VADER\n",
    "        sentiment = get_sentiment_vader(user_input)  # Use original text here\n",
    "        \n",
    "        # Display the results\n",
    "        print(f\"Original Text: {user_input}\")\n",
    "        print(f\"Cleaned Text: {cleaned_text}\")\n",
    "        print(f\"Sentiment: {sentiment}\\n\")\n",
    "\n",
    "# Run the sentiment analysis tool\n",
    "analyze_user_input()"
   ]
  },
  {
   "cell_type": "code",
   "execution_count": null,
   "id": "2857600e-8800-43ec-8540-9ed9120aa2f0",
   "metadata": {},
   "outputs": [],
   "source": []
  }
 ],
 "metadata": {
  "kernelspec": {
   "display_name": "Python 3 (ipykernel)",
   "language": "python",
   "name": "python3"
  },
  "language_info": {
   "codemirror_mode": {
    "name": "ipython",
    "version": 3
   },
   "file_extension": ".py",
   "mimetype": "text/x-python",
   "name": "python",
   "nbconvert_exporter": "python",
   "pygments_lexer": "ipython3",
   "version": "3.10.12"
  }
 },
 "nbformat": 4,
 "nbformat_minor": 5
}
