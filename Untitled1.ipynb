{
 "cells": [
  {
   "cell_type": "code",
   "execution_count": 1,
   "id": "458d850c-c6a9-4a78-8a82-a93ed1780404",
   "metadata": {},
   "outputs": [
    {
     "name": "stdout",
     "output_type": "stream",
     "text": [
      "Defaulting to user installation because normal site-packages is not writeable\n",
      "Requirement already satisfied: wordcloud in /home/sunbeam/.local/lib/python3.10/site-packages (1.9.4)\n",
      "Requirement already satisfied: numpy>=1.6.1 in /home/sunbeam/.local/lib/python3.10/site-packages (from wordcloud) (1.26.4)\n",
      "Requirement already satisfied: pillow in /home/sunbeam/.local/lib/python3.10/site-packages (from wordcloud) (10.2.0)\n",
      "Requirement already satisfied: matplotlib in /home/sunbeam/.local/lib/python3.10/site-packages (from wordcloud) (3.10.0)\n",
      "Requirement already satisfied: contourpy>=1.0.1 in /usr/local/lib/python3.10/dist-packages (from matplotlib->wordcloud) (1.2.0)\n",
      "Requirement already satisfied: cycler>=0.10 in /usr/local/lib/python3.10/dist-packages (from matplotlib->wordcloud) (0.12.1)\n",
      "Requirement already satisfied: fonttools>=4.22.0 in /usr/local/lib/python3.10/dist-packages (from matplotlib->wordcloud) (4.50.0)\n",
      "Requirement already satisfied: kiwisolver>=1.3.1 in /usr/local/lib/python3.10/dist-packages (from matplotlib->wordcloud) (1.4.5)\n",
      "Requirement already satisfied: packaging>=20.0 in /home/sunbeam/.local/lib/python3.10/site-packages (from matplotlib->wordcloud) (24.2)\n",
      "Requirement already satisfied: pyparsing>=2.3.1 in /usr/lib/python3/dist-packages (from matplotlib->wordcloud) (2.4.7)\n",
      "Requirement already satisfied: python-dateutil>=2.7 in /home/sunbeam/.local/lib/python3.10/site-packages (from matplotlib->wordcloud) (2.9.0.post0)\n",
      "Requirement already satisfied: six>=1.5 in /home/sunbeam/.local/lib/python3.10/site-packages (from python-dateutil>=2.7->matplotlib->wordcloud) (1.17.0)\n"
     ]
    },
    {
     "name": "stderr",
     "output_type": "stream",
     "text": [
      "[nltk_data] Downloading package stopwords to\n",
      "[nltk_data]     /home/sunbeam/nltk_data...\n",
      "[nltk_data]   Package stopwords is already up-to-date!\n"
     ]
    }
   ],
   "source": [
    "!pip install wordcloud\n",
    "\n",
    "import pandas as pd\n",
    "import numpy as np\n",
    "import matplotlib.pyplot as plt\n",
    "import seaborn as sns\n",
    "\n",
    "import spacy\n",
    "import json,os,uuid\n",
    "import re\n",
    "import nltk\n",
    "from nltk.corpus import stopwords\n",
    "from wordcloud import WordCloud, STOPWORDS\n",
    "from sklearn.feature_extraction.text import CountVectorizer\n",
    "from nltk.tokenize import RegexpTokenizer\n",
    "\n",
    "from imblearn.over_sampling import SMOTE\n",
    "from sklearn.model_selection import train_test_split\n",
    "from sklearn.metrics import accuracy_score,classification_report\n",
    "import xgboost as xgb\n",
    "from sklearn.ensemble import RandomForestClassifier\n",
    "from sklearn.linear_model import LogisticRegression\n",
    "from sklearn.naive_bayes import MultinomialNB\n",
    "\n",
    "\n",
    "from wordcloud import WordCloud, STOPWORDS\n",
    "import matplotlib.pyplot as plt\n",
    "from PIL import Image\n",
    "\n",
    "import warnings\n",
    "warnings.filterwarnings('ignore')\n",
    "nltk.download('stopwords')\n",
    "nlp = spacy.load(\"en_core_web_sm\", disable=['parser', 'ner'])"
   ]
  },
  {
   "cell_type": "code",
   "execution_count": 2,
   "id": "f6ca0f14-4e03-4405-a534-9479149d48b3",
   "metadata": {},
   "outputs": [],
   "source": [
    "data = pd.read_csv('/home/sunbeam/Downloads/chatgpt_reviews.csv')"
   ]
  },
  {
   "cell_type": "code",
   "execution_count": 3,
   "id": "3a0b3f83-cb00-4288-9fa4-1dccfa847f4b",
   "metadata": {},
   "outputs": [
    {
     "data": {
      "text/plain": [
       "(1540, 6)"
      ]
     },
     "execution_count": 3,
     "metadata": {},
     "output_type": "execute_result"
    }
   ],
   "source": [
    "data.shape\n"
   ]
  },
  {
   "cell_type": "code",
   "execution_count": 4,
   "id": "4ff4922b-7b7b-4371-b96c-6a2953a180fa",
   "metadata": {},
   "outputs": [
    {
     "name": "stdout",
     "output_type": "stream",
     "text": [
      "<class 'pandas.core.frame.DataFrame'>\n",
      "RangeIndex: 1540 entries, 0 to 1539\n",
      "Data columns (total 6 columns):\n",
      " #   Column    Non-Null Count  Dtype \n",
      "---  ------    --------------  ----- \n",
      " 0   date      1540 non-null   object\n",
      " 1   review    1540 non-null   object\n",
      " 2   rating    1540 non-null   int64 \n",
      " 3   isEdited  1540 non-null   bool  \n",
      " 4   userName  1540 non-null   object\n",
      " 5   title     1540 non-null   object\n",
      "dtypes: bool(1), int64(1), object(4)\n",
      "memory usage: 61.8+ KB\n"
     ]
    }
   ],
   "source": [
    "data.info()\n"
   ]
  },
  {
   "cell_type": "code",
   "execution_count": 5,
   "id": "1d1675d2-480c-4705-99d4-f9f571544331",
   "metadata": {},
   "outputs": [
    {
     "data": {
      "text/html": [
       "<div>\n",
       "<style scoped>\n",
       "    .dataframe tbody tr th:only-of-type {\n",
       "        vertical-align: middle;\n",
       "    }\n",
       "\n",
       "    .dataframe tbody tr th {\n",
       "        vertical-align: top;\n",
       "    }\n",
       "\n",
       "    .dataframe thead th {\n",
       "        text-align: right;\n",
       "    }\n",
       "</style>\n",
       "<table border=\"1\" class=\"dataframe\">\n",
       "  <thead>\n",
       "    <tr style=\"text-align: right;\">\n",
       "      <th></th>\n",
       "      <th>rating</th>\n",
       "    </tr>\n",
       "  </thead>\n",
       "  <tbody>\n",
       "    <tr>\n",
       "      <th>count</th>\n",
       "      <td>1540.000000</td>\n",
       "    </tr>\n",
       "    <tr>\n",
       "      <th>mean</th>\n",
       "      <td>4.311688</td>\n",
       "    </tr>\n",
       "    <tr>\n",
       "      <th>std</th>\n",
       "      <td>1.202766</td>\n",
       "    </tr>\n",
       "    <tr>\n",
       "      <th>min</th>\n",
       "      <td>1.000000</td>\n",
       "    </tr>\n",
       "    <tr>\n",
       "      <th>25%</th>\n",
       "      <td>4.000000</td>\n",
       "    </tr>\n",
       "    <tr>\n",
       "      <th>50%</th>\n",
       "      <td>5.000000</td>\n",
       "    </tr>\n",
       "    <tr>\n",
       "      <th>75%</th>\n",
       "      <td>5.000000</td>\n",
       "    </tr>\n",
       "    <tr>\n",
       "      <th>max</th>\n",
       "      <td>5.000000</td>\n",
       "    </tr>\n",
       "  </tbody>\n",
       "</table>\n",
       "</div>"
      ],
      "text/plain": [
       "            rating\n",
       "count  1540.000000\n",
       "mean      4.311688\n",
       "std       1.202766\n",
       "min       1.000000\n",
       "25%       4.000000\n",
       "50%       5.000000\n",
       "75%       5.000000\n",
       "max       5.000000"
      ]
     },
     "execution_count": 5,
     "metadata": {},
     "output_type": "execute_result"
    }
   ],
   "source": [
    "data.describe()\n"
   ]
  },
  {
   "cell_type": "code",
   "execution_count": 6,
   "id": "e9310254-d82d-4397-9f69-81ea9d568e43",
   "metadata": {},
   "outputs": [
    {
     "data": {
      "text/html": [
       "<div>\n",
       "<style scoped>\n",
       "    .dataframe tbody tr th:only-of-type {\n",
       "        vertical-align: middle;\n",
       "    }\n",
       "\n",
       "    .dataframe tbody tr th {\n",
       "        vertical-align: top;\n",
       "    }\n",
       "\n",
       "    .dataframe thead th {\n",
       "        text-align: right;\n",
       "    }\n",
       "</style>\n",
       "<table border=\"1\" class=\"dataframe\">\n",
       "  <thead>\n",
       "    <tr style=\"text-align: right;\">\n",
       "      <th></th>\n",
       "      <th>date</th>\n",
       "      <th>review</th>\n",
       "      <th>userName</th>\n",
       "      <th>title</th>\n",
       "    </tr>\n",
       "  </thead>\n",
       "  <tbody>\n",
       "    <tr>\n",
       "      <th>count</th>\n",
       "      <td>1540</td>\n",
       "      <td>1540</td>\n",
       "      <td>1540</td>\n",
       "      <td>1540</td>\n",
       "    </tr>\n",
       "    <tr>\n",
       "      <th>unique</th>\n",
       "      <td>1538</td>\n",
       "      <td>1538</td>\n",
       "      <td>1538</td>\n",
       "      <td>1468</td>\n",
       "    </tr>\n",
       "    <tr>\n",
       "      <th>top</th>\n",
       "      <td>2023-11-03 15:44:59</td>\n",
       "      <td>So be really careful and read the fine print. ...</td>\n",
       "      <td>jpfrancoeur</td>\n",
       "      <td>Amazing</td>\n",
       "    </tr>\n",
       "    <tr>\n",
       "      <th>freq</th>\n",
       "      <td>2</td>\n",
       "      <td>2</td>\n",
       "      <td>2</td>\n",
       "      <td>14</td>\n",
       "    </tr>\n",
       "  </tbody>\n",
       "</table>\n",
       "</div>"
      ],
      "text/plain": [
       "                       date  \\\n",
       "count                  1540   \n",
       "unique                 1538   \n",
       "top     2023-11-03 15:44:59   \n",
       "freq                      2   \n",
       "\n",
       "                                                   review     userName  \\\n",
       "count                                                1540         1540   \n",
       "unique                                               1538         1538   \n",
       "top     So be really careful and read the fine print. ...  jpfrancoeur   \n",
       "freq                                                    2            2   \n",
       "\n",
       "          title  \n",
       "count      1540  \n",
       "unique     1468  \n",
       "top     Amazing  \n",
       "freq         14  "
      ]
     },
     "execution_count": 6,
     "metadata": {},
     "output_type": "execute_result"
    }
   ],
   "source": [
    "data.describe(include='object')\n"
   ]
  },
  {
   "cell_type": "markdown",
   "id": "d5c48eef-7bbb-4088-9058-5a318b04d9af",
   "metadata": {},
   "source": [
    "#### Analysis of Rating Column\n"
   ]
  },
  {
   "cell_type": "code",
   "execution_count": 7,
   "id": "9961c32d-d617-4eb2-8cd0-4ff038e2e7d0",
   "metadata": {},
   "outputs": [
    {
     "data": {
      "text/plain": [
       "rating\n",
       "1     102\n",
       "2      74\n",
       "3     114\n",
       "4     202\n",
       "5    1048\n",
       "Name: count, dtype: int64"
      ]
     },
     "execution_count": 7,
     "metadata": {},
     "output_type": "execute_result"
    }
   ],
   "source": [
    "#Rating Distribution\n",
    "data['rating'].value_counts().sort_index()"
   ]
  },
  {
   "cell_type": "code",
   "execution_count": 8,
   "id": "f7878286-d0f8-47c7-ac91-78a13ab45928",
   "metadata": {},
   "outputs": [
    {
     "data": {
      "text/plain": [
       "rating\n",
       "1     6.62\n",
       "2     4.81\n",
       "3     7.40\n",
       "4    13.12\n",
       "5    68.05\n",
       "Name: proportion, dtype: float64"
      ]
     },
     "execution_count": 8,
     "metadata": {},
     "output_type": "execute_result"
    }
   ],
   "source": [
    "data['rating'].value_counts(normalize=True).mul(100).round(2).sort_index()\n"
   ]
  },
  {
   "cell_type": "code",
   "execution_count": 9,
   "id": "29b344ce-4b6e-4a91-ab77-c5382f6cdf0c",
   "metadata": {},
   "outputs": [
    {
     "data": {
      "image/png": "[encoded data removed]",
      "text/plain": [
       "<Figure size 640x480 with 1 Axes>"
      ]
     },
     "metadata": {},
     "output_type": "display_data"
    }
   ],
   "source": [
    "#Plot\n",
    "import seaborn as sns\n",
    "import matplotlib.pyplot as plt\n",
    "\n",
    "# Set a color palette\n",
    "palette = sns.color_palette(\"Set2\")  \n",
    "\n",
    "# Create the count plot\n",
    "sns.countplot(data=data, x='rating', palette=palette)\n",
    "\n",
    "# Labeling the plot\n",
    "plt.xlabel('Rating')\n",
    "plt.ylabel('No. of Users')\n",
    "plt.title('Ratings Distribution')\n",
    "\n",
    "# Show the plot\n",
    "plt.show()"
   ]
  },
  {
   "cell_type": "markdown",
   "id": "6ae4c6b5-e119-4e8f-994f-1a675a7e1756",
   "metadata": {},
   "source": [
    "#### Data Processing\n"
   ]
  },
  {
   "cell_type": "code",
   "execution_count": 10,
   "id": "382f47ed-52f1-4c19-995d-2a537527c1e6",
   "metadata": {},
   "outputs": [
    {
     "data": {
      "text/plain": [
       "date        0\n",
       "review      0\n",
       "rating      0\n",
       "isEdited    0\n",
       "userName    0\n",
       "title       0\n",
       "dtype: int64"
      ]
     },
     "execution_count": 10,
     "metadata": {},
     "output_type": "execute_result"
    }
   ],
   "source": [
    "#Find no. of missing values in each column\n",
    "data.isnull().sum().sort_values(ascending=False)"
   ]
  },
  {
   "cell_type": "code",
   "execution_count": 11,
   "id": "4677f5e6-0213-4bd5-9bab-da9384b34ab0",
   "metadata": {},
   "outputs": [],
   "source": [
    "#Combine Review Time and Review\n",
    "data['complete_review'] = data['title'] +' .'+data['review']"
   ]
  },
  {
   "cell_type": "code",
   "execution_count": 12,
   "id": "b4872e0e-1b22-472b-9226-b647d4bede20",
   "metadata": {},
   "outputs": [],
   "source": [
    "#Drop some columns which we won't use for sentiment analysis of review\n",
    "remove_cols = ['date','isEdited','userName','review','title']\n",
    "data = data.drop(remove_cols,axis='columns')"
   ]
  },
  {
   "cell_type": "code",
   "execution_count": 13,
   "id": "f4310c4f-123e-4146-94c9-4c8f6c7d1e1d",
   "metadata": {},
   "outputs": [
    {
     "data": {
      "text/html": [
       "<div>\n",
       "<style scoped>\n",
       "    .dataframe tbody tr th:only-of-type {\n",
       "        vertical-align: middle;\n",
       "    }\n",
       "\n",
       "    .dataframe tbody tr th {\n",
       "        vertical-align: top;\n",
       "    }\n",
       "\n",
       "    .dataframe thead th {\n",
       "        text-align: right;\n",
       "    }\n",
       "</style>\n",
       "<table border=\"1\" class=\"dataframe\">\n",
       "  <thead>\n",
       "    <tr style=\"text-align: right;\">\n",
       "      <th></th>\n",
       "      <th>rating</th>\n",
       "      <th>complete_review</th>\n",
       "    </tr>\n",
       "  </thead>\n",
       "  <tbody>\n",
       "    <tr>\n",
       "      <th>0</th>\n",
       "      <td>5</td>\n",
       "      <td>ChatGPT is a MUST HAVE APP .My TikTok follower...</td>\n",
       "    </tr>\n",
       "    <tr>\n",
       "      <th>1</th>\n",
       "      <td>4</td>\n",
       "      <td>4.5 stars, here’s why .I recently downloaded t...</td>\n",
       "    </tr>\n",
       "    <tr>\n",
       "      <th>2</th>\n",
       "      <td>2</td>\n",
       "      <td>Performance issues. .In the beginning, this ap...</td>\n",
       "    </tr>\n",
       "    <tr>\n",
       "      <th>3</th>\n",
       "      <td>3</td>\n",
       "      <td>Issues with accessibility for the blind .I tru...</td>\n",
       "    </tr>\n",
       "    <tr>\n",
       "      <th>4</th>\n",
       "      <td>4</td>\n",
       "      <td>This app is using an older version of your cus...</td>\n",
       "    </tr>\n",
       "  </tbody>\n",
       "</table>\n",
       "</div>"
      ],
      "text/plain": [
       "   rating                                    complete_review\n",
       "0       5  ChatGPT is a MUST HAVE APP .My TikTok follower...\n",
       "1       4  4.5 stars, here’s why .I recently downloaded t...\n",
       "2       2  Performance issues. .In the beginning, this ap...\n",
       "3       3  Issues with accessibility for the blind .I tru...\n",
       "4       4  This app is using an older version of your cus..."
      ]
     },
     "execution_count": 13,
     "metadata": {},
     "output_type": "execute_result"
    }
   ],
   "source": [
    "data.head()\n"
   ]
  },
  {
   "cell_type": "markdown",
   "id": "6a690103-e031-42d6-9c8a-a8b8433cbd63",
   "metadata": {},
   "source": [
    "#### 1.Convert all the reviews to lowercase\n"
   ]
  },
  {
   "cell_type": "code",
   "execution_count": 14,
   "id": "fae8aeb1-473a-4289-8f48-46aa9ba4ede7",
   "metadata": {},
   "outputs": [
    {
     "data": {
      "text/plain": [
       "0    chatgpt is a must have app .my tiktok follower...\n",
       "1    4.5 stars, here’s why .i recently downloaded t...\n",
       "2    performance issues. .in the beginning, this ap...\n",
       "3    issues with accessibility for the blind .i tru...\n",
       "4    this app is using an older version of your cus...\n",
       "Name: complete_review, dtype: object"
      ]
     },
     "execution_count": 14,
     "metadata": {},
     "output_type": "execute_result"
    }
   ],
   "source": [
    "data['complete_review'] = data['complete_review'].apply(lambda x: \" \".join(x.lower() for x in x.split()))\n",
    "data['complete_review'].head()"
   ]
  },
  {
   "cell_type": "markdown",
   "id": "b20695df-6079-43be-afb2-dc46d53204dc",
   "metadata": {},
   "source": [
    "#### 2.Remove Punctuation"
   ]
  },
  {
   "cell_type": "code",
   "execution_count": 15,
   "id": "a8515191-8231-4431-a475-74b3a83c5e78",
   "metadata": {},
   "outputs": [],
   "source": [
    "data['complete_review'] = data['complete_review'].str.replace('[^\\w\\s]','')\n"
   ]
  },
  {
   "cell_type": "markdown",
   "id": "b29c38b2-8680-4ad4-869e-a7967a53ce61",
   "metadata": {},
   "source": [
    "#### 3.Remove Emoji\n"
   ]
  },
  {
   "cell_type": "code",
   "execution_count": 16,
   "id": "3d18d2de-f1fa-4e34-ae50-085915a0a64e",
   "metadata": {},
   "outputs": [],
   "source": [
    "def remove_emoji(text):\n",
    "    emoji_pattern = re.compile(\"[\"\n",
    "                           u\"\\U0001F600-\\U0001F64F\"  # emoticons\n",
    "                           u\"\\U0001F300-\\U0001F5FF\"  # symbols & pictographs\n",
    "                           u\"\\U0001F680-\\U0001F6FF\"  # transport & map symbols\n",
    "                           u\"\\U0001F1E0-\\U0001F1FF\"  # flags\n",
    "                           u\"\\U00002702-\\U000027B0\"\n",
    "                           u\"\\U000024C2-\\U0001F251\"\n",
    "                           \"]+\", flags=re.UNICODE)\n",
    "    return emoji_pattern.sub(r'', text)\n",
    "data['complete_review'] = data['complete_review'].apply(lambda x: remove_emoji(x))"
   ]
  },
  {
   "cell_type": "markdown",
   "id": "3f9bf7dd-6191-40dd-94fc-9e3327561b98",
   "metadata": {},
   "source": [
    "#### 4.Remove Stopwords"
   ]
  },
  {
   "cell_type": "code",
   "execution_count": 17,
   "id": "dc4156df-7089-49cc-97b2-58e3620ef9d8",
   "metadata": {},
   "outputs": [],
   "source": [
    "stop = stopwords.words('english')\n",
    "data['complete_review'] = data['complete_review'].apply(lambda x: \" \".join(x for x in x.split() if x not in stop))"
   ]
  },
  {
   "cell_type": "markdown",
   "id": "6b242c20-b4b8-4093-9f28-af14574320ff",
   "metadata": {},
   "source": [
    "#### 5.Apply Lemmatization\n"
   ]
  },
  {
   "cell_type": "code",
   "execution_count": null,
   "id": "414870f2-317c-4ab4-b72d-6fa698374780",
   "metadata": {},
   "outputs": [],
   "source": [
    "def space(comment):\n",
    "    doc = nlp(comment)\n",
    "    return \" \".join([token.lemma_ for token in doc])\n",
    "data['complete_review']= data['complete_review'].apply(space)"
   ]
  },
  {
   "cell_type": "markdown",
   "id": "124978e5-6e36-4ec9-9c20-36703355a96e",
   "metadata": {},
   "source": [
    "#### 6.Remove certain words\n"
   ]
  },
  {
   "cell_type": "code",
   "execution_count": null,
   "id": "2094f1a1-1d33-4bb5-917d-f2078d3940d8",
   "metadata": {},
   "outputs": [],
   "source": [
    "words_to_remove = ['chatgpt','app','chatgpts','chat','gpt','iphone','ipad','gpt4','phone','number','ai','use','io']\n",
    "data['complete_review'] = data['complete_review'].apply(lambda x: \" \".join(x for x in x.split() if x not in words_to_remove))"
   ]
  },
  {
   "cell_type": "markdown",
   "id": "bfb3c1e8-af4b-4a7e-a5eb-bfef161080f3",
   "metadata": {},
   "source": [
    "##### 7.Map ratings to positive, negative & neutral sentiment\n",
    "\n",
    "###### 0 will represent Negative sentiment\n",
    "###### 1 will represent Neutral sentiment\n",
    "###### 2 will represent Positive sentiment"
   ]
  },
  {
   "cell_type": "code",
   "execution_count": null,
   "id": "e859e164-8320-43dc-a6cf-5b8acfd546c5",
   "metadata": {},
   "outputs": [],
   "source": [
    "data['sentiment'] = data['rating'].apply(lambda rating: 2 if rating > 3 else (1 if rating == 3 else 0))\n",
    "data.head(5)"
   ]
  },
  {
   "cell_type": "code",
   "execution_count": null,
   "id": "c3c2917d-caaf-4452-9886-98b2fd560e92",
   "metadata": {},
   "outputs": [],
   "source": [
    "data['sentiment'].value_counts(normalize=True).mul(100).round(2)"
   ]
  },
  {
   "cell_type": "markdown",
   "id": "e1d323b8-1772-4f69-aa8c-d99fb5a0f35c",
   "metadata": {},
   "source": [
    "##### Reviews Analysis\n"
   ]
  },
  {
   "cell_type": "code",
   "execution_count": null,
   "id": "aaaa681c-40e4-4bc3-89bd-94da2d1f21ea",
   "metadata": {},
   "outputs": [],
   "source": [
    "font_path = \"/usr/share/fonts/truetype/dejavu/DejaVuSans.ttf\"\n",
    "\n",
    "from wordcloud import WordCloud\n",
    "import matplotlib.pyplot as plt\n",
    "from nltk.corpus import stopwords\n",
    "\n",
    "# Ensure you have the stopwords downloaded\n",
    "stopword = set(stopwords.words('english'))\n",
    "text = \" \".join(review for review in data.complete_review)\n",
    "\n",
    "# Specify the font path (update this path based on your OS)\n",
    "font_path = \"/usr/share/fonts/truetype/dejavu/DejaVuSans.ttf\"  \n",
    "\n",
    "# Generate word cloud\n",
    "wordcloud = WordCloud(stopwords=stopword, font_path=font_path).generate(text)\n",
    "\n",
    "# Plotting\n",
    "plt.imshow(wordcloud, interpolation='bilinear')\n",
    "plt.axis(\"off\")\n",
    "plt.show()"
   ]
  },
  {
   "cell_type": "code",
   "execution_count": null,
   "id": "a94185ef-7669-4033-9102-375bebde20a4",
   "metadata": {},
   "outputs": [],
   "source": [
    "#Analysis of Review field\n",
    "stopword = set(stopwords.words('english'))\n",
    "text = \" \".join(review for review in data.complete_review)\n",
    "wordcloud = WordCloud(stopwords=stopword).generate(text)\n",
    "plt.imshow(wordcloud, interpolation='bilinear')\n",
    "plt.axis(\"off\")\n",
    "plt.show()"
   ]
  },
  {
   "cell_type": "code",
   "execution_count": null,
   "id": "c854ad96-cb22-486e-a07a-6f528b78685a",
   "metadata": {},
   "outputs": [],
   "source": [
    "#positive negative & neutral sentiment:\n",
    "positive = data[data['sentiment'] == 2]\n",
    "negative = data[data['sentiment'] == 0]\n",
    "neutral = data[data['sentiment'] == 1]"
   ]
  },
  {
   "cell_type": "code",
   "execution_count": null,
   "id": "da3885dd-4f64-4585-af7f-99ece5bd793c",
   "metadata": {},
   "outputs": [],
   "source": [
    "#Positive Setiment\n",
    "stopword = set(stopwords.words('english'))\n",
    "text = \" \".join(review for review in positive.complete_review)\n",
    "wordcloud = WordCloud(stopwords=stopword).generate(text)\n",
    "plt.imshow(wordcloud, interpolation='bilinear')\n",
    "plt.axis(\"off\")\n",
    "plt.show()"
   ]
  },
  {
   "cell_type": "code",
   "execution_count": null,
   "id": "1f12044f-3834-41bc-b51a-74c475fbec8f",
   "metadata": {},
   "outputs": [],
   "source": [
    "#Negative Setiment\n",
    "stopword = set(stopwords.words('english'))\n",
    "text = \" \".join(review for review in negative.complete_review)\n",
    "wordcloud = WordCloud(stopwords=stopword).generate(text)\n",
    "plt.imshow(wordcloud, interpolation='bilinear')\n",
    "plt.axis(\"off\")\n",
    "plt.show()"
   ]
  },
  {
   "cell_type": "code",
   "execution_count": null,
   "id": "5ed13a40-d579-4a62-9498-5df555db721d",
   "metadata": {},
   "outputs": [],
   "source": [
    "#Neutral Sentiment\n",
    "stopword = set(stopwords.words('english'))\n",
    "text = \" \".join(review for review in neutral.complete_review)\n",
    "wordcloud = WordCloud(stopwords=stopword).generate(text)\n",
    "plt.imshow(wordcloud, interpolation='bilinear')\n",
    "plt.axis(\"off\")\n",
    "plt.show()"
   ]
  },
  {
   "cell_type": "markdown",
   "id": "93938b3c-4c4d-4b8f-a5f0-41dd56ddde0f",
   "metadata": {},
   "source": [
    "##### Sentiment Analysis Model\n",
    "\n",
    "###### Bag of Word Vectorization\n",
    "\n"
   ]
  },
  {
   "cell_type": "code",
   "execution_count": null,
   "id": "8e8db94b-34be-4253-a5ea-a6ff4c60d553",
   "metadata": {},
   "outputs": [],
   "source": [
    "#Pre-Prcoessing and Bag of Word Vectorization using Count Vectorizer\n",
    "token = RegexpTokenizer(r'[a-zA-Z0-9]+')\n",
    "cv = CountVectorizer(stop_words='english',ngram_range = (1,1),tokenizer = token.tokenize)\n",
    "X = cv.fit_transform(data['complete_review'])\n",
    "y = data['sentiment']"
   ]
  },
  {
   "cell_type": "markdown",
   "id": "84ea212f-eaf4-4861-bc4c-4b5da85534b4",
   "metadata": {},
   "source": [
    "##### Handle Imbalanced Data\n"
   ]
  },
  {
   "cell_type": "code",
   "execution_count": null,
   "id": "76cfe711-3ae8-4649-928a-64d3e0044bf0",
   "metadata": {},
   "outputs": [],
   "source": [
    "# Instantiate the SMOTE object\n",
    "smote = SMOTE()\n",
    "\n",
    "# Perform oversampling\n",
    "X_oversampled, y_oversampled = smote.fit_resample(X, y)"
   ]
  },
  {
   "cell_type": "markdown",
   "id": "08e0968a-6178-4dbe-8424-050da3d49807",
   "metadata": {},
   "source": [
    "##### Train Test Split"
   ]
  },
  {
   "cell_type": "code",
   "execution_count": null,
   "id": "cdfe4cf9-1a5e-4605-887b-aae577291a54",
   "metadata": {},
   "outputs": [],
   "source": [
    "#Train Test split\n",
    "X_train, X_test, y_train, y_test = train_test_split(X_oversampled,\n",
    "                                                  y_oversampled,\n",
    "                                                  test_size=0.15,\n",
    "                                                  random_state=17,stratify=y_oversampled)\n",
    "print(X_train.shape)\n",
    "print(X_test.shape)\n",
    "print(y_train.shape)\n",
    "print(y_test.shape)\n"
   ]
  },
  {
   "cell_type": "markdown",
   "id": "253c9c1f-e108-4cc7-b4b6-410ef2c4d84e",
   "metadata": {},
   "source": [
    "Multinomial Naive Bayes\n"
   ]
  },
  {
   "cell_type": "code",
   "execution_count": null,
   "id": "d5d3297d-c1a0-437d-ab91-0830d2c7c4a5",
   "metadata": {},
   "outputs": [],
   "source": [
    "#Training the model\n",
    "MNB = MultinomialNB()\n",
    "MNB.fit(X_train, y_train)\n",
    "\n",
    "#Caluclating the accuracy score of the model\n",
    "y_pred = MNB.predict(X_test)\n",
    "print(classification_report(y_pred, y_test))\n"
   ]
  },
  {
   "cell_type": "markdown",
   "id": "210d7f3b-9c4e-4c6f-bc21-d881a3d49517",
   "metadata": {},
   "source": [
    "Logistic Regression\n"
   ]
  },
  {
   "cell_type": "code",
   "execution_count": null,
   "id": "70d54b6d-c87c-4bab-9194-04bfb20d1512",
   "metadata": {},
   "outputs": [],
   "source": [
    "# Initialize and train the logistic regression model\n",
    "model = LogisticRegression()\n",
    "model.fit(X_train, y_train)\n",
    "\n",
    "# Make predictions on the test set\n",
    "y_pred = model.predict(X_test)\n",
    "\n",
    "# Calculate accuracy\n",
    "print(classification_report(y_pred, y_test))"
   ]
  },
  {
   "cell_type": "markdown",
   "id": "56e6eb1e-7bfc-469b-837d-855b08d54d59",
   "metadata": {},
   "source": [
    "Random Forest"
   ]
  },
  {
   "cell_type": "code",
   "execution_count": null,
   "id": "1436bc6f-956e-467a-a7c6-6ead588e8782",
   "metadata": {},
   "outputs": [],
   "source": [
    "# Initialize and train the random forest classifier\n",
    "forest = RandomForestClassifier()\n",
    "forest.fit(X_train, y_train)\n",
    "\n",
    "# Make predictions on the test set\n",
    "y_pred = forest.predict(X_test)\n",
    "\n",
    "# Calculate accuracy\n",
    "print(classification_report(y_pred, y_test))"
   ]
  },
  {
   "cell_type": "code",
   "execution_count": null,
   "id": "e899696d-af80-459e-ac46-c60362a944d6",
   "metadata": {},
   "outputs": [],
   "source": [
    "import pickle\n",
    "filename = 'randomforestclassifier.pkl'\n",
    "pickle.dump(forest, open(filename, 'wb'))"
   ]
  },
  {
   "cell_type": "code",
   "execution_count": null,
   "id": "b6ad5830-f421-4a4c-8e66-c0e49daca3f7",
   "metadata": {},
   "outputs": [],
   "source": []
  }
 ],
 "metadata": {
  "kernelspec": {
   "display_name": "Python 3 (ipykernel)",
   "language": "python",
   "name": "python3"
  },
  "language_info": {
   "codemirror_mode": {
    "name": "ipython",
    "version": 3
   },
   "file_extension": ".py",
   "mimetype": "text/x-python",
   "name": "python",
   "nbconvert_exporter": "python",
   "pygments_lexer": "ipython3",
   "version": "3.10.12"
  }
 },
 "nbformat": 4,
 "nbformat_minor": 5
}
